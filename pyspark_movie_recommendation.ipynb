{
 "cells": [
  {
   "cell_type": "code",
   "execution_count": 1,
   "metadata": {},
   "outputs": [],
   "source": [
    "import numpy as np\n",
    "import pandas as pd\n",
    "from pyspark.sql import SparkSession\n",
    "from pyspark.ml.evaluation import RegressionEvaluator\n",
    "from pyspark.ml.recommendation import ALS\n",
    "from pyspark.sql import SQLContext"
   ]
  },
  {
   "cell_type": "code",
   "execution_count": 2,
   "metadata": {},
   "outputs": [],
   "source": [
    "# Read the data from the vtc-cab repos\n",
    "raw_data = pd.read_csv('./activities_201802011009.csv')"
   ]
  },
  {
   "cell_type": "code",
   "execution_count": 3,
   "metadata": {},
   "outputs": [],
   "source": [
    "raw_data['accountid'].replace('', np.nan, inplace=True)\n",
    "raw_data['key'].replace('', np.nan, inplace=True)\n",
    "raw_data.dropna(subset=['accountid'], inplace=True)\n",
    "raw_data.dropna(subset=['key'], inplace=True)"
   ]
  },
  {
   "cell_type": "code",
   "execution_count": 4,
   "metadata": {},
   "outputs": [
    {
     "name": "stdout",
     "output_type": "stream",
     "text": [
      "Number of customers: 32729\n",
      "Number of items bought: 13575\n"
     ]
    }
   ],
   "source": [
    "# Let's see how many items and customers there are in the dataset\n",
    "num_cust = len(raw_data.accountid.unique())\n",
    "num_items = len(raw_data.key.unique())\n",
    "print('Number of customers: ' + str(num_cust))\n",
    "print('Number of items bought: ' + str(num_items))"
   ]
  },
  {
   "cell_type": "code",
   "execution_count": 5,
   "metadata": {},
   "outputs": [
    {
     "name": "stderr",
     "output_type": "stream",
     "text": [
      "/Users/andy-pet/anaconda3/envs/py36/lib/python3.6/site-packages/pandas/core/indexing.py:194: SettingWithCopyWarning: \n",
      "A value is trying to be set on a copy of a slice from a DataFrame\n",
      "\n",
      "See the caveats in the documentation: http://pandas.pydata.org/pandas-docs/stable/indexing.html#indexing-view-versus-copy\n",
      "  self._setitem_with_indexer(indexer, value)\n"
     ]
    }
   ],
   "source": [
    "# add one quantity column to dataframe, for simple we just add 1 to everywhere\n",
    "raw_data['quantity'] = 1\n",
    "# add more quantity for the completed video to denote the stonger preference \n",
    "raw_data.quantity.loc[raw_data.value == 'complete'] = 2"
   ]
  },
  {
   "cell_type": "code",
   "execution_count": 6,
   "metadata": {},
   "outputs": [],
   "source": [
    "#clean up the raw data \n",
    "retail_data = raw_data.loc[pd.isnull(raw_data.accountid) == False]"
   ]
  },
  {
   "cell_type": "code",
   "execution_count": 7,
   "metadata": {},
   "outputs": [
    {
     "data": {
      "text/html": [
       "<div>\n",
       "<style scoped>\n",
       "    .dataframe tbody tr th:only-of-type {\n",
       "        vertical-align: middle;\n",
       "    }\n",
       "\n",
       "    .dataframe tbody tr th {\n",
       "        vertical-align: top;\n",
       "    }\n",
       "\n",
       "    .dataframe thead th {\n",
       "        text-align: right;\n",
       "    }\n",
       "</style>\n",
       "<table border=\"1\" class=\"dataframe\">\n",
       "  <thead>\n",
       "    <tr style=\"text-align: right;\">\n",
       "      <th></th>\n",
       "      <th>name</th>\n",
       "      <th>accountid</th>\n",
       "      <th>userid</th>\n",
       "      <th>id</th>\n",
       "      <th>deviceid</th>\n",
       "      <th>key</th>\n",
       "      <th>metadata</th>\n",
       "      <th>tstamp</th>\n",
       "      <th>value</th>\n",
       "      <th>quantity</th>\n",
       "    </tr>\n",
       "  </thead>\n",
       "  <tbody>\n",
       "    <tr>\n",
       "      <th>0</th>\n",
       "      <td>watch</td>\n",
       "      <td>7041046</td>\n",
       "      <td>NaN</td>\n",
       "      <td>99ef7d20-f289-11e7-824b-fda2ff9f7794</td>\n",
       "      <td>Android</td>\n",
       "      <td>LYS005228795</td>\n",
       "      <td>[Synopsis=Từ 04/04/2017, Title=ON FOOTBALL, bo...</td>\n",
       "      <td>2018-01-06 09:30:46</td>\n",
       "      <td>watching</td>\n",
       "      <td>1</td>\n",
       "    </tr>\n",
       "    <tr>\n",
       "      <th>1</th>\n",
       "      <td>watch</td>\n",
       "      <td>7041046</td>\n",
       "      <td>NaN</td>\n",
       "      <td>16836d10-f28a-11e7-a231-9114f613577e</td>\n",
       "      <td>Android</td>\n",
       "      <td>tapchiclbvidaibayernmunich_1p</td>\n",
       "      <td>[Synopsis=, Title=Tạp chí CLB vĩ đại - Bayern ...</td>\n",
       "      <td>2018-01-06 09:34:15</td>\n",
       "      <td>watching</td>\n",
       "      <td>1</td>\n",
       "    </tr>\n",
       "    <tr>\n",
       "      <th>2</th>\n",
       "      <td>watch</td>\n",
       "      <td>7041046</td>\n",
       "      <td>NaN</td>\n",
       "      <td>b280e9d0-f4cf-11e7-b167-f75a20dec89d</td>\n",
       "      <td>Android</td>\n",
       "      <td>tapchiderbyrealmadridvsbarcelona_lep</td>\n",
       "      <td>[Synopsis=, Title=Tạp chí Derby - Real Madrid ...</td>\n",
       "      <td>2018-01-09 06:57:34</td>\n",
       "      <td>watching</td>\n",
       "      <td>1</td>\n",
       "    </tr>\n",
       "    <tr>\n",
       "      <th>3</th>\n",
       "      <td>watch</td>\n",
       "      <td>7041046</td>\n",
       "      <td>NaN</td>\n",
       "      <td>6dd1cb50-f4d0-11e7-a231-9114f613577e</td>\n",
       "      <td>Android</td>\n",
       "      <td>aquayoga4tuthechienbinhp</td>\n",
       "      <td>[Synopsis=Khoe va Dep, Title=Aqua Yoga 4 Tư th...</td>\n",
       "      <td>2018-01-09 07:02:49</td>\n",
       "      <td>watching</td>\n",
       "      <td>1</td>\n",
       "    </tr>\n",
       "    <tr>\n",
       "      <th>4</th>\n",
       "      <td>watch</td>\n",
       "      <td>7041046</td>\n",
       "      <td>NaN</td>\n",
       "      <td>199f1e11-f4d1-11e7-824b-fda2ff9f7794</td>\n",
       "      <td>Android</td>\n",
       "      <td>LYS013573731</td>\n",
       "      <td>[Synopsis=Nhịp đập 360° thể thao, Title=Nhịp đ...</td>\n",
       "      <td>2018-01-09 07:07:37</td>\n",
       "      <td>watching</td>\n",
       "      <td>1</td>\n",
       "    </tr>\n",
       "  </tbody>\n",
       "</table>\n",
       "</div>"
      ],
      "text/plain": [
       "    name accountid  userid                                    id deviceid  \\\n",
       "0  watch   7041046     NaN  99ef7d20-f289-11e7-824b-fda2ff9f7794  Android   \n",
       "1  watch   7041046     NaN  16836d10-f28a-11e7-a231-9114f613577e  Android   \n",
       "2  watch   7041046     NaN  b280e9d0-f4cf-11e7-b167-f75a20dec89d  Android   \n",
       "3  watch   7041046     NaN  6dd1cb50-f4d0-11e7-a231-9114f613577e  Android   \n",
       "4  watch   7041046     NaN  199f1e11-f4d1-11e7-824b-fda2ff9f7794  Android   \n",
       "\n",
       "                                    key  \\\n",
       "0                          LYS005228795   \n",
       "1         tapchiclbvidaibayernmunich_1p   \n",
       "2  tapchiderbyrealmadridvsbarcelona_lep   \n",
       "3              aquayoga4tuthechienbinhp   \n",
       "4                          LYS013573731   \n",
       "\n",
       "                                            metadata               tstamp  \\\n",
       "0  [Synopsis=Từ 04/04/2017, Title=ON FOOTBALL, bo...  2018-01-06 09:30:46   \n",
       "1  [Synopsis=, Title=Tạp chí CLB vĩ đại - Bayern ...  2018-01-06 09:34:15   \n",
       "2  [Synopsis=, Title=Tạp chí Derby - Real Madrid ...  2018-01-09 06:57:34   \n",
       "3  [Synopsis=Khoe va Dep, Title=Aqua Yoga 4 Tư th...  2018-01-09 07:02:49   \n",
       "4  [Synopsis=Nhịp đập 360° thể thao, Title=Nhịp đ...  2018-01-09 07:07:37   \n",
       "\n",
       "      value  quantity  \n",
       "0  watching         1  \n",
       "1  watching         1  \n",
       "2  watching         1  \n",
       "3  watching         1  \n",
       "4  watching         1  "
      ]
     },
     "execution_count": 7,
     "metadata": {},
     "output_type": "execute_result"
    }
   ],
   "source": [
    "retail_data.head()"
   ]
  },
  {
   "cell_type": "markdown",
   "metadata": {},
   "source": [
    "## because pyspark will need user_id and item_id as integer type so we need to encode it to categorical data"
   ]
  },
  {
   "cell_type": "code",
   "execution_count": 8,
   "metadata": {},
   "outputs": [],
   "source": [
    "# Get list of unique customers\n",
    "cust_list = list(np.sort(retail_data.accountid.unique()))\n",
    "# Get list of unique items bought\n",
    "item_list = list(np.sort(retail_data.key.unique()))\n",
    "# Get list of all the purchase quantities\n",
    "quantity_list = list(retail_data.quantity)"
   ]
  },
  {
   "cell_type": "code",
   "execution_count": 9,
   "metadata": {},
   "outputs": [
    {
     "name": "stderr",
     "output_type": "stream",
     "text": [
      "/Users/andy-pet/anaconda3/envs/py36/lib/python3.6/site-packages/ipykernel_launcher.py:1: FutureWarning: specifying 'categories' or 'ordered' in .astype() is deprecated; pass a CategoricalDtype instead\n",
      "  \"\"\"Entry point for launching an IPython kernel.\n",
      "/Users/andy-pet/anaconda3/envs/py36/lib/python3.6/site-packages/ipykernel_launcher.py:2: FutureWarning: specifying 'categories' or 'ordered' in .astype() is deprecated; pass a CategoricalDtype instead\n",
      "  \n"
     ]
    }
   ],
   "source": [
    "user_id_cat = retail_data.accountid.astype('category', categories = cust_list).cat.codes\n",
    "key_id_cat = retail_data.key.astype('category', categories = item_list).cat.codes"
   ]
  },
  {
   "cell_type": "code",
   "execution_count": 10,
   "metadata": {},
   "outputs": [],
   "source": [
    "retail_data['key_id_cat'] = key_id_cat.astype(int)\n",
    "retail_data['user_id_cat'] = user_id_cat.astype(int)"
   ]
  },
  {
   "cell_type": "code",
   "execution_count": 11,
   "metadata": {},
   "outputs": [
    {
     "data": {
      "text/html": [
       "<div>\n",
       "<style scoped>\n",
       "    .dataframe tbody tr th:only-of-type {\n",
       "        vertical-align: middle;\n",
       "    }\n",
       "\n",
       "    .dataframe tbody tr th {\n",
       "        vertical-align: top;\n",
       "    }\n",
       "\n",
       "    .dataframe thead th {\n",
       "        text-align: right;\n",
       "    }\n",
       "</style>\n",
       "<table border=\"1\" class=\"dataframe\">\n",
       "  <thead>\n",
       "    <tr style=\"text-align: right;\">\n",
       "      <th></th>\n",
       "      <th>name</th>\n",
       "      <th>accountid</th>\n",
       "      <th>userid</th>\n",
       "      <th>id</th>\n",
       "      <th>deviceid</th>\n",
       "      <th>key</th>\n",
       "      <th>metadata</th>\n",
       "      <th>tstamp</th>\n",
       "      <th>value</th>\n",
       "      <th>quantity</th>\n",
       "      <th>key_id_cat</th>\n",
       "      <th>user_id_cat</th>\n",
       "    </tr>\n",
       "  </thead>\n",
       "  <tbody>\n",
       "    <tr>\n",
       "      <th>0</th>\n",
       "      <td>watch</td>\n",
       "      <td>7041046</td>\n",
       "      <td>NaN</td>\n",
       "      <td>99ef7d20-f289-11e7-824b-fda2ff9f7794</td>\n",
       "      <td>Android</td>\n",
       "      <td>LYS005228795</td>\n",
       "      <td>[Synopsis=Từ 04/04/2017, Title=ON FOOTBALL, bo...</td>\n",
       "      <td>2018-01-06 09:30:46</td>\n",
       "      <td>watching</td>\n",
       "      <td>1</td>\n",
       "      <td>230</td>\n",
       "      <td>25542</td>\n",
       "    </tr>\n",
       "    <tr>\n",
       "      <th>1</th>\n",
       "      <td>watch</td>\n",
       "      <td>7041046</td>\n",
       "      <td>NaN</td>\n",
       "      <td>16836d10-f28a-11e7-a231-9114f613577e</td>\n",
       "      <td>Android</td>\n",
       "      <td>tapchiclbvidaibayernmunich_1p</td>\n",
       "      <td>[Synopsis=, Title=Tạp chí CLB vĩ đại - Bayern ...</td>\n",
       "      <td>2018-01-06 09:34:15</td>\n",
       "      <td>watching</td>\n",
       "      <td>1</td>\n",
       "      <td>12221</td>\n",
       "      <td>25542</td>\n",
       "    </tr>\n",
       "    <tr>\n",
       "      <th>2</th>\n",
       "      <td>watch</td>\n",
       "      <td>7041046</td>\n",
       "      <td>NaN</td>\n",
       "      <td>b280e9d0-f4cf-11e7-b167-f75a20dec89d</td>\n",
       "      <td>Android</td>\n",
       "      <td>tapchiderbyrealmadridvsbarcelona_lep</td>\n",
       "      <td>[Synopsis=, Title=Tạp chí Derby - Real Madrid ...</td>\n",
       "      <td>2018-01-09 06:57:34</td>\n",
       "      <td>watching</td>\n",
       "      <td>1</td>\n",
       "      <td>12316</td>\n",
       "      <td>25542</td>\n",
       "    </tr>\n",
       "    <tr>\n",
       "      <th>3</th>\n",
       "      <td>watch</td>\n",
       "      <td>7041046</td>\n",
       "      <td>NaN</td>\n",
       "      <td>6dd1cb50-f4d0-11e7-a231-9114f613577e</td>\n",
       "      <td>Android</td>\n",
       "      <td>aquayoga4tuthechienbinhp</td>\n",
       "      <td>[Synopsis=Khoe va Dep, Title=Aqua Yoga 4 Tư th...</td>\n",
       "      <td>2018-01-09 07:02:49</td>\n",
       "      <td>watching</td>\n",
       "      <td>1</td>\n",
       "      <td>8267</td>\n",
       "      <td>25542</td>\n",
       "    </tr>\n",
       "    <tr>\n",
       "      <th>4</th>\n",
       "      <td>watch</td>\n",
       "      <td>7041046</td>\n",
       "      <td>NaN</td>\n",
       "      <td>199f1e11-f4d1-11e7-824b-fda2ff9f7794</td>\n",
       "      <td>Android</td>\n",
       "      <td>LYS013573731</td>\n",
       "      <td>[Synopsis=Nhịp đập 360° thể thao, Title=Nhịp đ...</td>\n",
       "      <td>2018-01-09 07:07:37</td>\n",
       "      <td>watching</td>\n",
       "      <td>1</td>\n",
       "      <td>4997</td>\n",
       "      <td>25542</td>\n",
       "    </tr>\n",
       "  </tbody>\n",
       "</table>\n",
       "</div>"
      ],
      "text/plain": [
       "    name accountid  userid                                    id deviceid  \\\n",
       "0  watch   7041046     NaN  99ef7d20-f289-11e7-824b-fda2ff9f7794  Android   \n",
       "1  watch   7041046     NaN  16836d10-f28a-11e7-a231-9114f613577e  Android   \n",
       "2  watch   7041046     NaN  b280e9d0-f4cf-11e7-b167-f75a20dec89d  Android   \n",
       "3  watch   7041046     NaN  6dd1cb50-f4d0-11e7-a231-9114f613577e  Android   \n",
       "4  watch   7041046     NaN  199f1e11-f4d1-11e7-824b-fda2ff9f7794  Android   \n",
       "\n",
       "                                    key  \\\n",
       "0                          LYS005228795   \n",
       "1         tapchiclbvidaibayernmunich_1p   \n",
       "2  tapchiderbyrealmadridvsbarcelona_lep   \n",
       "3              aquayoga4tuthechienbinhp   \n",
       "4                          LYS013573731   \n",
       "\n",
       "                                            metadata               tstamp  \\\n",
       "0  [Synopsis=Từ 04/04/2017, Title=ON FOOTBALL, bo...  2018-01-06 09:30:46   \n",
       "1  [Synopsis=, Title=Tạp chí CLB vĩ đại - Bayern ...  2018-01-06 09:34:15   \n",
       "2  [Synopsis=, Title=Tạp chí Derby - Real Madrid ...  2018-01-09 06:57:34   \n",
       "3  [Synopsis=Khoe va Dep, Title=Aqua Yoga 4 Tư th...  2018-01-09 07:02:49   \n",
       "4  [Synopsis=Nhịp đập 360° thể thao, Title=Nhịp đ...  2018-01-09 07:07:37   \n",
       "\n",
       "      value  quantity  key_id_cat  user_id_cat  \n",
       "0  watching         1         230        25542  \n",
       "1  watching         1       12221        25542  \n",
       "2  watching         1       12316        25542  \n",
       "3  watching         1        8267        25542  \n",
       "4  watching         1        4997        25542  "
      ]
     },
     "execution_count": 11,
     "metadata": {},
     "output_type": "execute_result"
    }
   ],
   "source": [
    "retail_data.head()"
   ]
  },
  {
   "cell_type": "code",
   "execution_count": 12,
   "metadata": {},
   "outputs": [],
   "source": [
    "# Let's group purchase quantities by Stock Code and CustomerID\n",
    "retail_data = retail_data[['key_id_cat', 'quantity', 'user_id_cat']]\n",
    "retail_grouped = retail_data.groupby(['user_id_cat', 'key_id_cat']).sum().reset_index()"
   ]
  },
  {
   "cell_type": "code",
   "execution_count": 13,
   "metadata": {},
   "outputs": [
    {
     "data": {
      "text/html": [
       "<div>\n",
       "<style scoped>\n",
       "    .dataframe tbody tr th:only-of-type {\n",
       "        vertical-align: middle;\n",
       "    }\n",
       "\n",
       "    .dataframe tbody tr th {\n",
       "        vertical-align: top;\n",
       "    }\n",
       "\n",
       "    .dataframe thead th {\n",
       "        text-align: right;\n",
       "    }\n",
       "</style>\n",
       "<table border=\"1\" class=\"dataframe\">\n",
       "  <thead>\n",
       "    <tr style=\"text-align: right;\">\n",
       "      <th></th>\n",
       "      <th>user_id_cat</th>\n",
       "      <th>key_id_cat</th>\n",
       "      <th>quantity</th>\n",
       "    </tr>\n",
       "  </thead>\n",
       "  <tbody>\n",
       "    <tr>\n",
       "      <th>0</th>\n",
       "      <td>0</td>\n",
       "      <td>9632</td>\n",
       "      <td>1</td>\n",
       "    </tr>\n",
       "    <tr>\n",
       "      <th>1</th>\n",
       "      <td>0</td>\n",
       "      <td>9945</td>\n",
       "      <td>2</td>\n",
       "    </tr>\n",
       "    <tr>\n",
       "      <th>2</th>\n",
       "      <td>0</td>\n",
       "      <td>10805</td>\n",
       "      <td>1</td>\n",
       "    </tr>\n",
       "    <tr>\n",
       "      <th>3</th>\n",
       "      <td>0</td>\n",
       "      <td>12101</td>\n",
       "      <td>1</td>\n",
       "    </tr>\n",
       "    <tr>\n",
       "      <th>4</th>\n",
       "      <td>0</td>\n",
       "      <td>13101</td>\n",
       "      <td>1</td>\n",
       "    </tr>\n",
       "  </tbody>\n",
       "</table>\n",
       "</div>"
      ],
      "text/plain": [
       "   user_id_cat  key_id_cat  quantity\n",
       "0            0        9632         1\n",
       "1            0        9945         2\n",
       "2            0       10805         1\n",
       "3            0       12101         1\n",
       "4            0       13101         1"
      ]
     },
     "execution_count": 13,
     "metadata": {},
     "output_type": "execute_result"
    }
   ],
   "source": [
    "retail_grouped.head()"
   ]
  },
  {
   "cell_type": "code",
   "execution_count": 14,
   "metadata": {},
   "outputs": [
    {
     "name": "stdout",
     "output_type": "stream",
     "text": [
      "\n",
      "Final Matrix of grouped purchases\n",
      "   user_id_cat  key_id_cat  quantity\n",
      "0            0        9632         1\n",
      "1            0        9945         2\n",
      "2            0       10805         1\n",
      "3            0       12101         1\n",
      "4            0       13101         1\n"
     ]
    }
   ],
   "source": [
    "# If the quantity sum is 0, replace with 1 to indicate that there was a purchase of that item atleast\n",
    "retail_grouped.quantity.loc[retail_grouped.quantity == 0] = 1\n",
    "# Filter out all negative quantities so that we can focus the recommendation of items that the customer purchased and liked\n",
    "retail_grouped_final = retail_grouped[retail_grouped.quantity > 0]\n",
    "print ('\\nFinal Matrix of grouped purchases')\n",
    "print (retail_grouped_final.head())"
   ]
  },
  {
   "cell_type": "markdown",
   "metadata": {},
   "source": [
    "### export the data in pyspark format to csv, to be latter read by pyspark, we can improve by convert from pandas df to pyspark df, but not try yet ==> point to improve"
   ]
  },
  {
   "cell_type": "code",
   "execution_count": 15,
   "metadata": {},
   "outputs": [],
   "source": [
    "retail_grouped_final.to_csv('spark_data.csv',index=False)"
   ]
  },
  {
   "cell_type": "code",
   "execution_count": 16,
   "metadata": {},
   "outputs": [],
   "source": [
    "spark = SparkSession.builder.appName('rec').getOrCreate()"
   ]
  },
  {
   "cell_type": "code",
   "execution_count": 17,
   "metadata": {},
   "outputs": [],
   "source": [
    "data = spark.read.csv('spark_data.csv',inferSchema=True,header=True)"
   ]
  },
  {
   "cell_type": "code",
   "execution_count": 18,
   "metadata": {},
   "outputs": [
    {
     "name": "stdout",
     "output_type": "stream",
     "text": [
      "+-----------+----------+--------+\n",
      "|user_id_cat|key_id_cat|quantity|\n",
      "+-----------+----------+--------+\n",
      "|          0|      9632|       1|\n",
      "|          0|      9945|       2|\n",
      "|          0|     10805|       1|\n",
      "|          0|     12101|       1|\n",
      "|          0|     13101|       1|\n",
      "|          1|      9448|       1|\n",
      "|          1|      9771|       1|\n",
      "|          1|      9949|       1|\n",
      "|          1|     10028|       1|\n",
      "|          1|     10789|       1|\n",
      "|          1|     13267|       1|\n",
      "|          2|      9691|       1|\n",
      "|          3|       207|       2|\n",
      "|          3|      7106|       1|\n",
      "|          3|      8218|       1|\n",
      "|          3|      8275|       1|\n",
      "|          3|      8751|       2|\n",
      "|          3|      8753|       3|\n",
      "|          3|      9512|       1|\n",
      "|          3|     10265|       1|\n",
      "+-----------+----------+--------+\n",
      "only showing top 20 rows\n",
      "\n"
     ]
    }
   ],
   "source": [
    "data.show()"
   ]
  },
  {
   "cell_type": "markdown",
   "metadata": {},
   "source": [
    "### split data for training and testing "
   ]
  },
  {
   "cell_type": "code",
   "execution_count": 19,
   "metadata": {},
   "outputs": [],
   "source": [
    "(training, test) = data.randomSplit([0.9, 0.1])"
   ]
  },
  {
   "cell_type": "code",
   "execution_count": 20,
   "metadata": {},
   "outputs": [],
   "source": [
    "# Building the recommendation model using ALS on the training data\n",
    "als = ALS(maxIter=10, regParam=0.01, userCol=\"user_id_cat\", itemCol=\"key_id_cat\", ratingCol=\"quantity\",nonnegative=True)\n",
    "model = als.fit(training)"
   ]
  },
  {
   "cell_type": "code",
   "execution_count": 21,
   "metadata": {},
   "outputs": [],
   "source": [
    "# Evaluating the model by computing the RMSE on the test data\n",
    "predictions = model.transform(training)"
   ]
  },
  {
   "cell_type": "code",
   "execution_count": 22,
   "metadata": {},
   "outputs": [
    {
     "name": "stdout",
     "output_type": "stream",
     "text": [
      "+-----------+----------+--------+----------+\n",
      "|user_id_cat|key_id_cat|quantity|prediction|\n",
      "+-----------+----------+--------+----------+\n",
      "|      11932|       148|       2|  1.968441|\n",
      "|        713|       463|       2| 2.2392673|\n",
      "|       7689|       471|       2| 1.8814936|\n",
      "|       8272|       496|       4| 3.9805136|\n",
      "|       8020|       496|       2| 2.1459835|\n",
      "|       6436|       833|       8| 7.9492006|\n",
      "|       2568|       833|       4| 4.0522027|\n",
      "|      10140|      1088|       2| 1.9249035|\n",
      "|      11362|      1238|       2|  1.925275|\n",
      "|      12698|      1342|       2| 1.9243176|\n",
      "|       5642|      1580|       2| 2.0501993|\n",
      "|       1930|      1591|       2| 1.9061768|\n",
      "|       1674|      1645|       2|  1.922136|\n",
      "|      16327|      1829|       2| 1.9896543|\n",
      "|       3732|      1959|       2| 1.9864552|\n",
      "|        617|      1959|       2| 1.9731699|\n",
      "|      13557|      2122|       2| 1.8814496|\n",
      "|       3693|      2142|       2| 1.9362671|\n",
      "|      18529|      2366|       2| 1.9982082|\n",
      "|      19630|      2659|       2| 1.9259405|\n",
      "+-----------+----------+--------+----------+\n",
      "only showing top 20 rows\n",
      "\n"
     ]
    }
   ],
   "source": [
    "predictions.show()"
   ]
  },
  {
   "cell_type": "code",
   "execution_count": 23,
   "metadata": {},
   "outputs": [
    {
     "name": "stdout",
     "output_type": "stream",
     "text": [
      "Root-mean-square error = 0.3840680992160791\n"
     ]
    }
   ],
   "source": [
    "evaluator = RegressionEvaluator(metricName=\"rmse\", labelCol=\"quantity\",predictionCol=\"prediction\")\n",
    "rmse = evaluator.evaluate(predictions)\n",
    "print(\"Root-mean-square error = \" + str(rmse))"
   ]
  },
  {
   "cell_type": "code",
   "execution_count": 24,
   "metadata": {},
   "outputs": [],
   "source": [
    "single_user = data.filter(data['user_id_cat']==0).select(['key_id_cat','user_id_cat'])"
   ]
  },
  {
   "cell_type": "code",
   "execution_count": 25,
   "metadata": {},
   "outputs": [
    {
     "name": "stdout",
     "output_type": "stream",
     "text": [
      "+----------+-----------+\n",
      "|key_id_cat|user_id_cat|\n",
      "+----------+-----------+\n",
      "|      9632|          0|\n",
      "|      9945|          0|\n",
      "|     10805|          0|\n",
      "|     12101|          0|\n",
      "|     13101|          0|\n",
      "+----------+-----------+\n",
      "\n"
     ]
    }
   ],
   "source": [
    "single_user.show()"
   ]
  },
  {
   "cell_type": "code",
   "execution_count": 26,
   "metadata": {},
   "outputs": [],
   "source": [
    "reccomendations = model.transform(single_user)"
   ]
  },
  {
   "cell_type": "code",
   "execution_count": 27,
   "metadata": {},
   "outputs": [
    {
     "name": "stdout",
     "output_type": "stream",
     "text": [
      "+----------+-----------+----------+\n",
      "|key_id_cat|user_id_cat|prediction|\n",
      "+----------+-----------+----------+\n",
      "|     13101|          0| 1.0011083|\n",
      "|      9945|          0| 1.9544966|\n",
      "|     12101|          0| 1.0003455|\n",
      "|      9632|          0|0.99991435|\n",
      "|     10805|          0|  1.000295|\n",
      "+----------+-----------+----------+\n",
      "\n"
     ]
    }
   ],
   "source": [
    "reccomendations.show()"
   ]
  },
  {
   "cell_type": "markdown",
   "metadata": {},
   "source": [
    "### make recommendation for all users by 10 items and extract to csv"
   ]
  },
  {
   "cell_type": "code",
   "execution_count": 28,
   "metadata": {},
   "outputs": [],
   "source": [
    "all_users_recomendation = model.recommendForAllUsers(10)"
   ]
  },
  {
   "cell_type": "code",
   "execution_count": 29,
   "metadata": {},
   "outputs": [],
   "source": [
    "df = all_users_recomendation.toPandas()"
   ]
  },
  {
   "cell_type": "code",
   "execution_count": 30,
   "metadata": {},
   "outputs": [],
   "source": [
    "df.to_csv('all_users_recomendation.csv',index=False)"
   ]
  }
 ],
 "metadata": {
  "kernelspec": {
   "display_name": "Python 3",
   "language": "python",
   "name": "python3"
  },
  "language_info": {
   "codemirror_mode": {
    "name": "ipython",
    "version": 3
   },
   "file_extension": ".py",
   "mimetype": "text/x-python",
   "name": "python",
   "nbconvert_exporter": "python",
   "pygments_lexer": "ipython3",
   "version": "3.6.4"
  }
 },
 "nbformat": 4,
 "nbformat_minor": 2
}
